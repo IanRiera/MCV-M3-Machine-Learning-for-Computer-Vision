{
 "cells": [
  {
   "cell_type": "code",
   "execution_count": 1,
   "metadata": {},
   "outputs": [],
   "source": [
    "%load_ext autoreload\n",
    "%autoreload 2\n",
    "\n",
    "%matplotlib inline"
   ]
  },
  {
   "cell_type": "code",
   "execution_count": 2,
   "metadata": {},
   "outputs": [],
   "source": [
    "from fastai.vision.all import *\n",
    "from torchvision import datasets, transforms\n",
    "from torchvision.utils import make_grid\n",
    "import torch\n",
    "from pathlib import Path"
   ]
  },
  {
   "cell_type": "code",
   "execution_count": 3,
   "metadata": {},
   "outputs": [],
   "source": [
    "class DataBunch():\n",
    "    def __init__(self, data_dir, image_size:int = None, batch_size:int = None):\n",
    "        self.data_dir = data_dir\n",
    "        self.image_size = image_size\n",
    "        self.batch_size = batch_size\n",
    "        \n",
    "        self.transforms = transforms.Compose([transforms.Resize((self.image_size, self.image_size)),\n",
    "                                              transforms.ToTensor(),\n",
    "                                              transforms.Normalize(mean = [0.485, 0.456, 0.406], \n",
    "                                                                   std = [0.229, 0.224, 0.225])\n",
    "                                             ])\n",
    "        \n",
    "        self.train_data = datasets.ImageFolder(self.data_dir/'train', transform = self.transforms)\n",
    "        self.test_data = datasets.ImageFolder(self.data_dir/'test', transform = self.transforms)\n",
    "        \n",
    "    @property    \n",
    "    def train_dataloader(self):\n",
    "            return DataLoader(self.train_data, batch_size=self.batch_size, shuffle=True, num_workers=2)\n",
    "    @property    \n",
    "    def test_dataloader(self):\n",
    "            return DataLoader(self.test_data, batch_size=self.batch_size, shuffle=False, num_workers=2)"
   ]
  },
  {
   "cell_type": "code",
   "execution_count": 4,
   "metadata": {},
   "outputs": [],
   "source": [
    "class Net(nn.Sequential):\n",
    "    def __init__(self):\n",
    "        super().__init__(\n",
    "            Flatten(),\n",
    "            nn.Linear(32*32*3,2048), nn.ReLU(),nn.BatchNorm1d(2048),\n",
    "            nn.Linear(2048, 1024), nn.ReLU(),nn.BatchNorm1d(1024),\n",
    "            nn.Linear(1024, 128), nn.ReLU(),nn.BatchNorm1d(128),\n",
    "            nn.Linear(128, 8), nn.LogSoftmax(dim=1))"
   ]
  },
  {
   "cell_type": "code",
   "execution_count": 8,
   "metadata": {},
   "outputs": [],
   "source": [
    "IMG_SIZE = 32\n",
    "BATCH_SIZE = 128\n",
    "LR = 5e-3\n",
    "NUM_EPOCHS = 10\n",
    "DATA_PATH = Path('/home/adityassrana/datatmp/Datasets/MIT_split')\n",
    "\n",
    "MITdata = DataBunch(DATA_PATH, image_size=IMG_SIZE, batch_size=BATCH_SIZE)\n",
    "\n",
    "data = DataLoaders(MITdata.train_dataloader, MITdata.test_dataloader).cuda()\n",
    "\n",
    "learn = Learner(data, Net(), loss_func=F.nll_loss, opt_func=Adam, metrics=accuracy,cbs = [CudaCallback])"
   ]
  },
  {
   "cell_type": "code",
   "execution_count": 9,
   "metadata": {},
   "outputs": [
    {
     "data": {
      "text/html": [
       "<table border=\"1\" class=\"dataframe\">\n",
       "  <thead>\n",
       "    <tr style=\"text-align: left;\">\n",
       "      <th>epoch</th>\n",
       "      <th>train_loss</th>\n",
       "      <th>valid_loss</th>\n",
       "      <th>accuracy</th>\n",
       "      <th>time</th>\n",
       "    </tr>\n",
       "  </thead>\n",
       "  <tbody>\n",
       "    <tr>\n",
       "      <td>0</td>\n",
       "      <td>1.485512</td>\n",
       "      <td>1.494422</td>\n",
       "      <td>0.472119</td>\n",
       "      <td>00:02</td>\n",
       "    </tr>\n",
       "    <tr>\n",
       "      <td>1</td>\n",
       "      <td>1.300565</td>\n",
       "      <td>1.483948</td>\n",
       "      <td>0.551425</td>\n",
       "      <td>00:02</td>\n",
       "    </tr>\n",
       "    <tr>\n",
       "      <td>2</td>\n",
       "      <td>1.158681</td>\n",
       "      <td>1.327835</td>\n",
       "      <td>0.581165</td>\n",
       "      <td>00:02</td>\n",
       "    </tr>\n",
       "    <tr>\n",
       "      <td>3</td>\n",
       "      <td>1.023845</td>\n",
       "      <td>1.363829</td>\n",
       "      <td>0.581165</td>\n",
       "      <td>00:02</td>\n",
       "    </tr>\n",
       "    <tr>\n",
       "      <td>4</td>\n",
       "      <td>0.894629</td>\n",
       "      <td>1.253614</td>\n",
       "      <td>0.594796</td>\n",
       "      <td>00:02</td>\n",
       "    </tr>\n",
       "    <tr>\n",
       "      <td>5</td>\n",
       "      <td>0.755485</td>\n",
       "      <td>1.241210</td>\n",
       "      <td>0.617100</td>\n",
       "      <td>00:02</td>\n",
       "    </tr>\n",
       "    <tr>\n",
       "      <td>6</td>\n",
       "      <td>0.625952</td>\n",
       "      <td>1.282246</td>\n",
       "      <td>0.623296</td>\n",
       "      <td>00:02</td>\n",
       "    </tr>\n",
       "    <tr>\n",
       "      <td>7</td>\n",
       "      <td>0.502928</td>\n",
       "      <td>1.188349</td>\n",
       "      <td>0.638166</td>\n",
       "      <td>00:02</td>\n",
       "    </tr>\n",
       "    <tr>\n",
       "      <td>8</td>\n",
       "      <td>0.397711</td>\n",
       "      <td>1.191805</td>\n",
       "      <td>0.657993</td>\n",
       "      <td>00:02</td>\n",
       "    </tr>\n",
       "    <tr>\n",
       "      <td>9</td>\n",
       "      <td>0.315242</td>\n",
       "      <td>1.184685</td>\n",
       "      <td>0.659232</td>\n",
       "      <td>00:02</td>\n",
       "    </tr>\n",
       "  </tbody>\n",
       "</table>"
      ],
      "text/plain": [
       "<IPython.core.display.HTML object>"
      ]
     },
     "metadata": {},
     "output_type": "display_data"
    }
   ],
   "source": [
    "learn.fit_one_cycle(NUM_EPOCHS, LR)"
   ]
  },
  {
   "cell_type": "code",
   "execution_count": 10,
   "metadata": {},
   "outputs": [
    {
     "data": {
      "image/png": "[encoded data removed]",
      "text/plain": [
       "<Figure size 864x288 with 2 Axes>"
      ]
     },
     "metadata": {
      "needs_background": "light"
     },
     "output_type": "display_data"
    }
   ],
   "source": [
    "learn.recorder.plot_sched()"
   ]
  },
  {
   "cell_type": "code",
   "execution_count": 11,
   "metadata": {},
   "outputs": [
    {
     "data": {
      "text/plain": [
       "Path('models/good_model.pth')"
      ]
     },
     "execution_count": 11,
     "metadata": {},
     "output_type": "execute_result"
    }
   ],
   "source": [
    "learn.save('good_model')"
   ]
  },
  {
   "cell_type": "code",
   "execution_count": null,
   "metadata": {},
   "outputs": [],
   "source": []
  }
 ],
 "metadata": {
  "kernelspec": {
   "display_name": "Python 3",
   "language": "python",
   "name": "python3"
  },
  "language_info": {
   "codemirror_mode": {
    "name": "ipython",
    "version": 3
   },
   "file_extension": ".py",
   "mimetype": "text/x-python",
   "name": "python",
   "nbconvert_exporter": "python",
   "pygments_lexer": "ipython3",
   "version": "3.8.5"
  }
 },
 "nbformat": 4,
 "nbformat_minor": 4
}
